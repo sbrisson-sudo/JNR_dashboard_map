{
 "cells": [
  {
   "cell_type": "code",
   "execution_count": 12,
   "metadata": {},
   "outputs": [],
   "source": [
    "import pandas as pd\n",
    "from datetime import datetime\n",
    "import numpy as np\n",
    "import requests\n",
    "import json \n",
    "import os "
   ]
  },
  {
   "cell_type": "code",
   "execution_count": 26,
   "metadata": {},
   "outputs": [],
   "source": [
    "in_file = \"../in_data/dossiers_journee-nationale-de-la-resilience-appel-a-projets_2023-07-26_07-58.xlsx\"\n",
    "\n",
    "df_dossier = pd.read_excel(in_file, sheet_name=\"Dossiers\")\n",
    "df_action_1 = pd.read_excel(in_file, sheet_name=\"(3344502) Action\")\n",
    "df_action_2 = pd.read_excel(in_file, sheet_name=\"(3308253) Action\")\n",
    "\n",
    "# Données INSEE\n",
    "insee_data_dir = \"C:\\\\Users\\\\sylvain.brisson\\\\Documents\\\\Données QGIS\\\\ADECOG_3-1_SHP_WGS84G_FRA\"\n",
    "df_dpt = pd.read_csv(os.path.join(insee_data_dir, \"DEPARTEMENT.csv\"))"
   ]
  },
  {
   "cell_type": "code",
   "execution_count": 27,
   "metadata": {},
   "outputs": [],
   "source": [
    "df_dossier.set_index(\"ID\", inplace=True)\n",
    "\n",
    "# Création d'un ID pour les actions\n",
    "for df in [df_action_1, df_action_2]:\n",
    "    df[\"ID\"] = df[\"Dossier ID\"].astype(str) + \"_\" + df[\"Ligne\"].astype(str)\n",
    "    df.set_index(\"ID\", inplace=True)"
   ]
  },
  {
   "cell_type": "code",
   "execution_count": 28,
   "metadata": {},
   "outputs": [],
   "source": [
    "# Conversion des colonnes de dates en objet datetime \n",
    "\n",
    "for col in [\n",
    "    'Dernière mise à jour le',\n",
    "    'Déposé le',\n",
    "    'Passé en instruction le',\n",
    "    'Traité le'\n",
    "] :\n",
    "    df_dossier[col] = pd.to_datetime(df_dossier[col], format='%Y-%m-%d')\n",
    "\n",
    "for col in [\n",
    "    \"Date prévisionnelle du début de l'action\",\n",
    "    \"Date prévisionnelle de la fin de l'action\",\n",
    "] :\n",
    "    for df in [df_action_1, df_action_2]:\n",
    "        df[col] =  pd.to_datetime(df[col], format='%Y-%m-%d')\n",
    "        "
   ]
  },
  {
   "cell_type": "code",
   "execution_count": 29,
   "metadata": {},
   "outputs": [],
   "source": [
    "# Conversion des champs Oui/Non en True/False\n",
    "\n",
    "for col in [\n",
    "    '1. Une action se déroule dans une seule localisation ou est dématérialisée',\n",
    "    '2 - Une ou plusieurs de vos actions se déroulent dans plusieurs localisations'\n",
    "] :\n",
    "    df_dossier[col] = df_dossier[col] == \"Oui\"\n",
    "\n",
    "for col in [\n",
    "    \"L'action est-elle ouverte au grand public ?\",\n",
    "    'Votre action est-elle dématérialisée ?',\n",
    "] :\n",
    "    df_action_1[col] = df_action_1[col] == \"Oui\"\n",
    "\n",
    "for col in [\n",
    "    \"L'action est-elle ouverte au grand public ?\"\n",
    "] :\n",
    "    df_action_2[col] = df_action_2[col] == \"Oui\"\n",
    "\n",
    "\n",
    "# Conversion des champs on/off en True/False\n",
    "\n",
    "for col in [\n",
    "    'En tant que porteur de projet proposé à la labellisation de l’Etat, je m’engage à respecter les valeurs et principes suivants, qui constituent la « Charte des valeurs de la Journée »',\n",
    "    'Je m’engage, si mon projet est labellisé',\n",
    "    \"J'atteste sur l’honneur l’exactitude des renseignements fournis ;\",\n",
    "    \"J'atteste avoir pris connaissance du règlement de l’appel à projets Journée nationale résilience 2023\"\n",
    "] :\n",
    "    df_dossier[col] = df_dossier[col] == \"on\""
   ]
  },
  {
   "cell_type": "code",
   "execution_count": 30,
   "metadata": {},
   "outputs": [],
   "source": [
    "# Conversion des champs à choix multiples en plusieurs champs True / False\n",
    "\n",
    "def traitement_champs_multiples(df, col, choix, fillna = False):\n",
    "    \n",
    "    # df[col] = df[col].fillna(\"\")\n",
    "    \n",
    "    for c in choix : \n",
    "        df[\"Is \"+c] = df.apply(\n",
    "            lambda x : fillna if not(isinstance(x[col],str)) else (c in x[col].split(\", \")),\n",
    "            axis = 1\n",
    "        )\n",
    "        \n",
    "    # df = df.drop(columns=[c])\n",
    "\n",
    "    return df"
   ]
  },
  {
   "cell_type": "code",
   "execution_count": 31,
   "metadata": {},
   "outputs": [],
   "source": [
    "for col,choix in [\n",
    "    (\"Type d'action\", [\"Conférence\",\"Exposition\",\"Réunion d'information\",\"Visite en plein air\",\"Atelier sensibilisation\",\"Spectable\",\"Autre\",\"Formation\",\"Conférence\", \"Atelier Jeux\"]),\n",
    "    (\"Risques ciblés\", [\"Risques naturels\",\"Risques technologiques\"]),\n",
    "    (\"Risques naturels\", [\"Inondations\",\"Feux de forêt\",\"Tempête/cyclone\",\"Séisme\",\"Éruption volcanique\",\"Mouvement de terrain\",\"Risques littoraux\",\"Avalanche\",\"Radon\"]),\n",
    "    (\"Risques technologiques\", [\"Accidents industriels\",\"Accidents nucléaires\",\"Rupture de barrage\",\"Transport de matières dangereuses\"]),\n",
    "    (\"Public cible\", [\"Tous public\",\"Famille\",\"Jeune public\",\"Séniors\"]),\n",
    "    (\"Public restreint\", [\"Elu\",\"Scolaire\",\"Salarié\",\"Autres\"]),\n",
    "    (\"Objectifs de l'action\", [\"Objectif n°1. Développer la culture sur les risques naturels et technologiques\",\"Objectif n°2. Se préparer à la survenance d’une catastrophe\",\"Objectif n°3. Développer la résilience collective aux catastrophes\"])\n",
    "] : \n",
    "    for df in [df_action_1, df_action_2]:\n",
    "        df = traitement_champs_multiples(df, col, choix)"
   ]
  },
  {
   "cell_type": "code",
   "execution_count": 32,
   "metadata": {},
   "outputs": [],
   "source": [
    "# Regarde si une action tombe en Octobre\n",
    "\n",
    "dt1 = datetime(2023, 10, 1)\n",
    "dt2 = datetime(2023, 10, 31)\n",
    "dt_jnr = datetime(2023, 10, 13)\n",
    "\n",
    "init_date = \"Date prévisionnelle du début de l'action\"\n",
    "end_date = \"Date prévisionnelle de la fin de l'action\"\n",
    "\n",
    "for df in [df_action_1, df_action_2]:\n",
    "    \n",
    "    df[\"Action en octobre\"] = \\\n",
    "            ((df[init_date] >= dt1) & (df[init_date] <= dt2)) | \\\n",
    "            ((df[end_date] >= dt1) & (df[end_date] <= dt2)) | \\\n",
    "            ((df[end_date] >= dt2) & (df[init_date] <= dt1))\n",
    "            \n",
    "    df[\"Action journalière\"] = (df[init_date] == df[init_date])\n",
    "    df[\"Action JNR\"] = (df[\"Action journalière\"] & (df[init_date] == dt_jnr))\n",
    "        "
   ]
  },
  {
   "cell_type": "code",
   "execution_count": 22,
   "metadata": {},
   "outputs": [],
   "source": [
    "# Export des données par département\n",
    "\n",
    "df_dossier[\"INSEE_DEP\"] = df_dossier.apply(\n",
    "    lambda row : row[\"Sélectionnez la zone géographique du projet\"].split(\"-\")[0],\n",
    "    axis = 1\n",
    ")\n",
    "\n",
    "df_action_1 = pd.merge(df_action_1, df_dossier.reset_index()[[\"ID\",\"INSEE_DEP\"]], how=\"left\", left_on=\"Dossier ID\", right_on=\"ID\")\n",
    "\n",
    "col_risques = [f\"Is {c}\" for c in [\"Inondations\",\"Feux de forêt\",\"Tempête/cyclone\",\"Séisme\"]]"
   ]
  },
  {
   "cell_type": "code",
   "execution_count": 24,
   "metadata": {},
   "outputs": [],
   "source": [
    "df_nb_actions_risque = df_action_1.groupby(\"INSEE_DEP\")[col_risques].sum()\n",
    "\n",
    "nb_actions_risque_dict = {}\n",
    "\n",
    "risques = [c[3:] for c in df_nb_actions_risque.columns]\n",
    "\n",
    "couleurs_risques = {\n",
    "    'Inondations' : \"#74BFDF\", \n",
    "    'Feux de forêt' : \"#FC7C7C\", \n",
    "    'Tempête/cyclone' : \"#B4CAD3\", \n",
    "    'Séisme' : \"#D3C7B4\"\n",
    "}\n",
    "\n",
    "couleurs = [couleurs_risques[r] for r in risques]\n",
    "\n",
    "for code in df_dpt[\"INSEE_DEP\"]:\n",
    "    nb_actions_risque_dict[code] = None\n",
    "\n",
    "for code in df_nb_actions_risque.index:\n",
    "    data = df_nb_actions_risque.loc[code]\n",
    "    nb_actions_risque_dict[code] = {\n",
    "        \"Type de risque\" : risques,\n",
    "        \"Nombre d'actions\" : data.values.flatten().tolist(),\n",
    "        \"couleur_plot\" : couleurs\n",
    "    }\n",
    "\n",
    "with open('../out_data/nb_actions_dpt.json', 'w') as fp:\n",
    "    json.dump(nb_actions_risque_dict, fp, indent=4)\n"
   ]
  },
  {
   "cell_type": "code",
   "execution_count": 33,
   "metadata": {},
   "outputs": [
    {
     "name": "stdout",
     "output_type": "stream",
     "text": [
      "Warning : L'adresse suivante n'a pas été trouvée : Ecole Mixte 1, Guyonneau 97116 Pointe-Noire, on donne les coordonnées de la commune\n",
      "Warning : L'adresse suivante n'a pas été trouvée : SITE DE LA VILLE DE CHOELCHER, on donne les coordonnées de la commune\n",
      "Warning : L'adresse suivante n'a pas été trouvée : Lieu encore à définir - potentiellement dans un espace de co-working à Rennes, ou à la Maison des Associations, ou en coopération avec l'ALEC ou la métropole de Rennes. , on donne les coordonnées de la commune\n",
      "Warning : L'adresse suivante n'a pas été trouvée : Lieu encore à définir - potentiellement dans un espace de co-working à Rennes, ou à la Maison des Associations, ou en coopération avec l'ALEC ou la métropole de Rennes. , on donne les coordonnées de la commune\n",
      "Warning : L'adresse suivante n'a pas été trouvée : Longvilliers Club - Petit manoir - 97232 LE LAMENTIN, on donne les coordonnées de la commune\n",
      "Warning : L'adresse suivante n'a pas été trouvée : foyer théâtre,  2 Rue du Foyer, 11700 Douzens, on donne les coordonnées de la commune\n",
      "Warning : L'adresse suivante n'a pas été trouvée : Chemin du vallon 74140 Loisin, on donne les coordonnées de la commune\n",
      "Warning : L'adresse suivante n'a pas été trouvée : Chemin du vallon 74140 Loisin, on donne les coordonnées de la commune\n",
      "Warning : L'adresse suivante n'a pas été trouvée : Chemin du vallon 74140 Loisin, on donne les coordonnées de la commune\n",
      "Warning : L'adresse suivante n'a pas été trouvée : Boulevard Militaire - Salle du Manège, on donne les coordonnées de la commune\n",
      "Warning : L'adresse suivante n'a pas été trouvée : Boulevard Militaire - Salle du Manège, on donne les coordonnées de la commune\n"
     ]
    }
   ],
   "source": [
    "# Récolte des coordonnées et département pour actions\n",
    "\n",
    "def adress2latlon(adress, commune, dpt):\n",
    "    \n",
    "    \"\"\"Interroge l'API de recherche d'adresse de OpenStreetMap\n",
    "    - Si adresse non rentrée par le dépositaire du dossier OU non trouvée par OpenStreetMap : on cherche les coordonnées de la commune\n",
    "    - Sinon on donne les coordonnées de l'adresse précise\n",
    "    \"\"\"\n",
    "    \n",
    "    if not(isinstance(adress, str)):\n",
    "        return [np.nan,np.nan]\n",
    "    \n",
    "    url = f\"https://nominatim.openstreetmap.org/?adressdetails=1&q={adress.replace(' ','+')}&format=json&limit=1\"\n",
    "    \n",
    "    try :\n",
    "        \n",
    "        data = requests.get(url).json()[0]\n",
    "                \n",
    "        # commune = data[\"display_name\"].split(\", \")[2]\n",
    "        # dpt = data[\"display_name\"].split(\", \")[4]\n",
    "\n",
    "        return [data[\"lat\"],data[\"lon\"]]\n",
    "    \n",
    "    except :\n",
    "        print(f\"Warning : L'adresse suivante n'a pas été trouvée : {adress}, on donne les coordonnées de la commune\")\n",
    "        \n",
    "        url = f\"https://nominatim.openstreetmap.org/?adressdetails=1&q={commune.replace(' ','+')},+{dpt}&format=json&limit=1\"\n",
    "\n",
    "        try : \n",
    "            data = requests.get(url).json()[0]\n",
    "            return [data[\"lat\"],data[\"lon\"]]\n",
    "        \n",
    "        except :\n",
    "            print(f\"Warning : Commune {commune} du département {dpt} non trouvée\")\n",
    "            return [np.nan,np.nan]\n",
    "    \n",
    "adress_col = \"Veuillez indiquer l'adresse complète de l'action\"\n",
    "        \n",
    "df_action_1[['Lat', 'Lon']] = pd.DataFrame([adress2latlon(adress,com,dpt) for adress,com,dpt in zip(df_action_1[adress_col],df_action_1[\"Commune\"],df_action_1[\"Département\"])],index=df_action_1.index)     "
   ]
  },
  {
   "cell_type": "code",
   "execution_count": 34,
   "metadata": {},
   "outputs": [],
   "source": [
    "df_action_1 = pd.merge(df_action_1, df_dossier, how=\"left\", left_on=\"Dossier ID\", right_index=True)"
   ]
  },
  {
   "cell_type": "code",
   "execution_count": 35,
   "metadata": {},
   "outputs": [
    {
     "ename": "KeyError",
     "evalue": "\"['Action sur la JNR uniquement'] not in index\"",
     "output_type": "error",
     "traceback": [
      "\u001b[1;31m---------------------------------------------------------------------------\u001b[0m",
      "\u001b[1;31mKeyError\u001b[0m                                  Traceback (most recent call last)",
      "Cell \u001b[1;32mIn[35], line 3\u001b[0m\n\u001b[0;32m      1\u001b[0m \u001b[39m# Export des données d'actions pour la carte grand public\u001b[39;00m\n\u001b[1;32m----> 3\u001b[0m df_action_1_export \u001b[39m=\u001b[39m df_action_1\u001b[39m.\u001b[39;49mloc[df_action_1[\u001b[39m\"\u001b[39;49m\u001b[39mL\u001b[39;49m\u001b[39m'\u001b[39;49m\u001b[39maction est-elle ouverte au grand public ?\u001b[39;49m\u001b[39m\"\u001b[39;49m]][[\n\u001b[0;32m      4\u001b[0m     \u001b[39m\"\u001b[39;49m\u001b[39mNom de l\u001b[39;49m\u001b[39m'\u001b[39;49m\u001b[39maction\u001b[39;49m\u001b[39m\"\u001b[39;49m,\n\u001b[0;32m      5\u001b[0m     \u001b[39m'\u001b[39;49m\u001b[39mRaison sociale\u001b[39;49m\u001b[39m'\u001b[39;49m,\n\u001b[0;32m      6\u001b[0m     \u001b[39m\"\u001b[39;49m\u001b[39mDate prévisionnelle du début de l\u001b[39;49m\u001b[39m'\u001b[39;49m\u001b[39maction\u001b[39;49m\u001b[39m\"\u001b[39;49m,\n\u001b[0;32m      7\u001b[0m     \u001b[39m\"\u001b[39;49m\u001b[39mDate prévisionnelle de la fin de l\u001b[39;49m\u001b[39m'\u001b[39;49m\u001b[39maction\u001b[39;49m\u001b[39m\"\u001b[39;49m,\n\u001b[0;32m      8\u001b[0m     \u001b[39m\"\u001b[39;49m\u001b[39mAction sur la JNR uniquement\u001b[39;49m\u001b[39m\"\u001b[39;49m,\n\u001b[0;32m      9\u001b[0m     \u001b[39m'\u001b[39;49m\u001b[39mPublic cible\u001b[39;49m\u001b[39m'\u001b[39;49m,\n\u001b[0;32m     10\u001b[0m     \u001b[39m\"\u001b[39;49m\u001b[39mType d\u001b[39;49m\u001b[39m'\u001b[39;49m\u001b[39maction\u001b[39;49m\u001b[39m\"\u001b[39;49m,\n\u001b[0;32m     11\u001b[0m     \u001b[39m\"\u001b[39;49m\u001b[39mDescription de l\u001b[39;49m\u001b[39m'\u001b[39;49m\u001b[39maction\u001b[39;49m\u001b[39m\"\u001b[39;49m, \n\u001b[0;32m     12\u001b[0m     \u001b[39m'\u001b[39;49m\u001b[39mIs Risques naturels\u001b[39;49m\u001b[39m'\u001b[39;49m,\n\u001b[0;32m     13\u001b[0m     \u001b[39m'\u001b[39;49m\u001b[39mIs Risques technologiques\u001b[39;49m\u001b[39m'\u001b[39;49m,\n\u001b[0;32m     14\u001b[0m     \u001b[39m'\u001b[39;49m\u001b[39mRisques naturels\u001b[39;49m\u001b[39m'\u001b[39;49m,\n\u001b[0;32m     15\u001b[0m     \u001b[39m'\u001b[39;49m\u001b[39mRisques technologiques\u001b[39;49m\u001b[39m'\u001b[39;49m,\n\u001b[0;32m     16\u001b[0m     \u001b[39m\"\u001b[39;49m\u001b[39mVeuillez indiquer l\u001b[39;49m\u001b[39m'\u001b[39;49m\u001b[39madresse complète de l\u001b[39;49m\u001b[39m'\u001b[39;49m\u001b[39maction\u001b[39;49m\u001b[39m\"\u001b[39;49m,\n\u001b[0;32m     17\u001b[0m     \u001b[39m\"\u001b[39;49m\u001b[39mCommune\u001b[39;49m\u001b[39m\"\u001b[39;49m,\n\u001b[0;32m     18\u001b[0m     \u001b[39m\"\u001b[39;49m\u001b[39mDépartement\u001b[39;49m\u001b[39m\"\u001b[39;49m,\n\u001b[0;32m     19\u001b[0m     \u001b[39m\"\u001b[39;49m\u001b[39mLat\u001b[39;49m\u001b[39m\"\u001b[39;49m,\n\u001b[0;32m     20\u001b[0m     \u001b[39m\"\u001b[39;49m\u001b[39mLon\u001b[39;49m\u001b[39m\"\u001b[39;49m\n\u001b[0;32m     21\u001b[0m ]]\u001b[39m.\u001b[39mrename(columns\u001b[39m=\u001b[39m{\n\u001b[0;32m     22\u001b[0m     \u001b[39m\"\u001b[39m\u001b[39mNom de l\u001b[39m\u001b[39m'\u001b[39m\u001b[39maction\u001b[39m\u001b[39m\"\u001b[39m : \u001b[39m\"\u001b[39m\u001b[39mNom\u001b[39m\u001b[39m\"\u001b[39m,\n\u001b[0;32m     23\u001b[0m     \u001b[39m\"\u001b[39m\u001b[39mRaison sociale\u001b[39m\u001b[39m\"\u001b[39m : \u001b[39m\"\u001b[39m\u001b[39mOrganisateur\u001b[39m\u001b[39m\"\u001b[39m,\n\u001b[0;32m     24\u001b[0m     \u001b[39m\"\u001b[39m\u001b[39mAction sur la JNR uniquement\u001b[39m\u001b[39m\"\u001b[39m : \u001b[39m\"\u001b[39m\u001b[39mAction_JNR\u001b[39m\u001b[39m\"\u001b[39m,\n\u001b[0;32m     25\u001b[0m     \u001b[39m\"\u001b[39m\u001b[39mDate prévisionnelle du début de l\u001b[39m\u001b[39m'\u001b[39m\u001b[39maction\u001b[39m\u001b[39m\"\u001b[39m : \u001b[39m\"\u001b[39m\u001b[39mDate_debut\u001b[39m\u001b[39m\"\u001b[39m,\n\u001b[0;32m     26\u001b[0m     \u001b[39m\"\u001b[39m\u001b[39mDate prévisionnelle de la fin de l\u001b[39m\u001b[39m'\u001b[39m\u001b[39maction\u001b[39m\u001b[39m\"\u001b[39m : \u001b[39m\"\u001b[39m\u001b[39mDate_fin\u001b[39m\u001b[39m\"\u001b[39m,\n\u001b[0;32m     27\u001b[0m     \u001b[39m\"\u001b[39m\u001b[39mPublic cible\u001b[39m\u001b[39m\"\u001b[39m : \u001b[39m\"\u001b[39m\u001b[39mPublic_cible\u001b[39m\u001b[39m\"\u001b[39m,\n\u001b[0;32m     28\u001b[0m     \u001b[39m\"\u001b[39m\u001b[39mType d\u001b[39m\u001b[39m'\u001b[39m\u001b[39maction\u001b[39m\u001b[39m\"\u001b[39m : \u001b[39m\"\u001b[39m\u001b[39mType_action\u001b[39m\u001b[39m\"\u001b[39m,\n\u001b[0;32m     29\u001b[0m     \u001b[39m\"\u001b[39m\u001b[39mDescription de l\u001b[39m\u001b[39m'\u001b[39m\u001b[39maction\u001b[39m\u001b[39m\"\u001b[39m : \u001b[39m\"\u001b[39m\u001b[39mDescriptif\u001b[39m\u001b[39m\"\u001b[39m,\n\u001b[0;32m     30\u001b[0m     \u001b[39m'\u001b[39m\u001b[39mIs Risques naturels\u001b[39m\u001b[39m'\u001b[39m : \u001b[39m\"\u001b[39m\u001b[39mIs_risque_nat\u001b[39m\u001b[39m\"\u001b[39m,\n\u001b[0;32m     31\u001b[0m     \u001b[39m'\u001b[39m\u001b[39mIs Risques technologiques\u001b[39m\u001b[39m'\u001b[39m : \u001b[39m\"\u001b[39m\u001b[39mIs_risque_techno\u001b[39m\u001b[39m\"\u001b[39m,\n\u001b[0;32m     32\u001b[0m     \u001b[39m'\u001b[39m\u001b[39mRisques naturels\u001b[39m\u001b[39m'\u001b[39m : \u001b[39m\"\u001b[39m\u001b[39mRisques_nat\u001b[39m\u001b[39m\"\u001b[39m,\n\u001b[0;32m     33\u001b[0m     \u001b[39m'\u001b[39m\u001b[39mRisques technologiques\u001b[39m\u001b[39m'\u001b[39m : \u001b[39m\"\u001b[39m\u001b[39mRisques_techno\u001b[39m\u001b[39m\"\u001b[39m,\n\u001b[0;32m     34\u001b[0m     \u001b[39m\"\u001b[39m\u001b[39mVeuillez indiquer l\u001b[39m\u001b[39m'\u001b[39m\u001b[39madresse complète de l\u001b[39m\u001b[39m'\u001b[39m\u001b[39maction\u001b[39m\u001b[39m\"\u001b[39m : \u001b[39m\"\u001b[39m\u001b[39mAdresse\u001b[39m\u001b[39m\"\u001b[39m\n\u001b[0;32m     35\u001b[0m })\n",
      "File \u001b[1;32mc:\\ProgramData\\anaconda3\\lib\\site-packages\\pandas\\core\\frame.py:3813\u001b[0m, in \u001b[0;36mDataFrame.__getitem__\u001b[1;34m(self, key)\u001b[0m\n\u001b[0;32m   3811\u001b[0m     \u001b[39mif\u001b[39;00m is_iterator(key):\n\u001b[0;32m   3812\u001b[0m         key \u001b[39m=\u001b[39m \u001b[39mlist\u001b[39m(key)\n\u001b[1;32m-> 3813\u001b[0m     indexer \u001b[39m=\u001b[39m \u001b[39mself\u001b[39;49m\u001b[39m.\u001b[39;49mcolumns\u001b[39m.\u001b[39;49m_get_indexer_strict(key, \u001b[39m\"\u001b[39;49m\u001b[39mcolumns\u001b[39;49m\u001b[39m\"\u001b[39;49m)[\u001b[39m1\u001b[39m]\n\u001b[0;32m   3815\u001b[0m \u001b[39m# take() does not accept boolean indexers\u001b[39;00m\n\u001b[0;32m   3816\u001b[0m \u001b[39mif\u001b[39;00m \u001b[39mgetattr\u001b[39m(indexer, \u001b[39m\"\u001b[39m\u001b[39mdtype\u001b[39m\u001b[39m\"\u001b[39m, \u001b[39mNone\u001b[39;00m) \u001b[39m==\u001b[39m \u001b[39mbool\u001b[39m:\n",
      "File \u001b[1;32mc:\\ProgramData\\anaconda3\\lib\\site-packages\\pandas\\core\\indexes\\base.py:6070\u001b[0m, in \u001b[0;36mIndex._get_indexer_strict\u001b[1;34m(self, key, axis_name)\u001b[0m\n\u001b[0;32m   6067\u001b[0m \u001b[39melse\u001b[39;00m:\n\u001b[0;32m   6068\u001b[0m     keyarr, indexer, new_indexer \u001b[39m=\u001b[39m \u001b[39mself\u001b[39m\u001b[39m.\u001b[39m_reindex_non_unique(keyarr)\n\u001b[1;32m-> 6070\u001b[0m \u001b[39mself\u001b[39;49m\u001b[39m.\u001b[39;49m_raise_if_missing(keyarr, indexer, axis_name)\n\u001b[0;32m   6072\u001b[0m keyarr \u001b[39m=\u001b[39m \u001b[39mself\u001b[39m\u001b[39m.\u001b[39mtake(indexer)\n\u001b[0;32m   6073\u001b[0m \u001b[39mif\u001b[39;00m \u001b[39misinstance\u001b[39m(key, Index):\n\u001b[0;32m   6074\u001b[0m     \u001b[39m# GH 42790 - Preserve name from an Index\u001b[39;00m\n",
      "File \u001b[1;32mc:\\ProgramData\\anaconda3\\lib\\site-packages\\pandas\\core\\indexes\\base.py:6133\u001b[0m, in \u001b[0;36mIndex._raise_if_missing\u001b[1;34m(self, key, indexer, axis_name)\u001b[0m\n\u001b[0;32m   6130\u001b[0m     \u001b[39mraise\u001b[39;00m \u001b[39mKeyError\u001b[39;00m(\u001b[39mf\u001b[39m\u001b[39m\"\u001b[39m\u001b[39mNone of [\u001b[39m\u001b[39m{\u001b[39;00mkey\u001b[39m}\u001b[39;00m\u001b[39m] are in the [\u001b[39m\u001b[39m{\u001b[39;00maxis_name\u001b[39m}\u001b[39;00m\u001b[39m]\u001b[39m\u001b[39m\"\u001b[39m)\n\u001b[0;32m   6132\u001b[0m not_found \u001b[39m=\u001b[39m \u001b[39mlist\u001b[39m(ensure_index(key)[missing_mask\u001b[39m.\u001b[39mnonzero()[\u001b[39m0\u001b[39m]]\u001b[39m.\u001b[39munique())\n\u001b[1;32m-> 6133\u001b[0m \u001b[39mraise\u001b[39;00m \u001b[39mKeyError\u001b[39;00m(\u001b[39mf\u001b[39m\u001b[39m\"\u001b[39m\u001b[39m{\u001b[39;00mnot_found\u001b[39m}\u001b[39;00m\u001b[39m not in index\u001b[39m\u001b[39m\"\u001b[39m)\n",
      "\u001b[1;31mKeyError\u001b[0m: \"['Action sur la JNR uniquement'] not in index\""
     ]
    }
   ],
   "source": [
    "# Export des données d'actions pour la carte grand public\n",
    "\n",
    "df_action_1_export = df_action_1.loc[df_action_1[\"L'action est-elle ouverte au grand public ?\"]][[\n",
    "    \"Nom de l'action\",\n",
    "    'Raison sociale',\n",
    "    \"Date prévisionnelle du début de l'action\",\n",
    "    \"Date prévisionnelle de la fin de l'action\",\n",
    "    \"Action journalière\",\n",
    "    \"Action JNR\",\n",
    "    'Public cible',\n",
    "    \"Type d'action\",\n",
    "    \"Description de l'action\", \n",
    "    'Is Risques naturels',\n",
    "    'Is Risques technologiques',\n",
    "    'Risques naturels',\n",
    "    'Risques technologiques',\n",
    "    \"Veuillez indiquer l'adresse complète de l'action\",\n",
    "    \"Commune\",\n",
    "    \"Département\",\n",
    "    \"Lat\",\n",
    "    \"Lon\"\n",
    "]].rename(columns={\n",
    "    \"Nom de l'action\" : \"Nom\",\n",
    "    \"Raison sociale\" : \"Organisateur\",\n",
    "    \"Action sur la JNR uniquement\" : \"Action_JNR\",\n",
    "    \"Date prévisionnelle du début de l'action\" : \"Date_debut\",\n",
    "    \"Date prévisionnelle de la fin de l'action\" : \"Date_fin\",\n",
    "    \"Public cible\" : \"Public_cible\",\n",
    "    \"Type d'action\" : \"Type_action\",\n",
    "    \"Description de l'action\" : \"Descriptif\",\n",
    "    'Is Risques naturels' : \"Is_risque_nat\",\n",
    "    'Is Risques technologiques' : \"Is_risque_techno\",\n",
    "    'Risques naturels' : \"Risques_nat\",\n",
    "    'Risques technologiques' : \"Risques_techno\",\n",
    "    \"Veuillez indiquer l'adresse complète de l'action\" : \"Adresse\",\n",
    "    \"Action journalière\" : \"Action_journalière\",\n",
    "    \"Action JNR\" : \"Action_JNR\",\n",
    "})"
   ]
  },
  {
   "cell_type": "code",
   "execution_count": 57,
   "metadata": {},
   "outputs": [],
   "source": [
    "df_action_1_export[~df_action_1_export[\"Lat\"].isna()].to_csv(\"../out_data/actions_grand_public_carte.csv\")"
   ]
  },
  {
   "cell_type": "code",
   "execution_count": null,
   "metadata": {},
   "outputs": [],
   "source": []
  }
 ],
 "metadata": {
  "kernelspec": {
   "display_name": "base",
   "language": "python",
   "name": "python3"
  },
  "language_info": {
   "codemirror_mode": {
    "name": "ipython",
    "version": 3
   },
   "file_extension": ".py",
   "mimetype": "text/x-python",
   "name": "python",
   "nbconvert_exporter": "python",
   "pygments_lexer": "ipython3",
   "version": "3.10.9"
  },
  "orig_nbformat": 4
 },
 "nbformat": 4,
 "nbformat_minor": 2
}
