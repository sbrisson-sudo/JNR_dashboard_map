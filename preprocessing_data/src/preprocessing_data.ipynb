{
 "cells": [
  {
   "cell_type": "code",
   "execution_count": 7,
   "metadata": {},
   "outputs": [],
   "source": [
    "import pandas as pd\n",
    "from datetime import datetime\n",
    "import numpy as np\n",
    "import requests\n",
    "import json \n",
    "import os \n",
    "from unidecode import unidecode"
   ]
  },
  {
   "cell_type": "code",
   "execution_count": 40,
   "metadata": {},
   "outputs": [],
   "source": [
    "in_file = \"../in_data/dossiers_journee-nationale-de-la-resilience-appel-a-projets_2023-07-26_07-58.xlsx\"\n",
    "in_file = \"../in_data/dossiers_journee-nationale-de-la-resilience-appel-a-projets_2023-08-01_16-59.xlsx\"\n",
    "\n",
    "df_dossier = pd.read_excel(in_file, sheet_name=\"Dossiers\")\n",
    "df_action_1 = pd.read_excel(in_file, sheet_name=\"(3344502) Action\")\n",
    "df_action_2 = pd.read_excel(in_file, sheet_name=\"(3308253) Action\")\n",
    "\n",
    "# Données INSEE\n",
    "insee_data_dir = \"../in_data\"\n",
    "df_dpt = pd.read_csv(os.path.join(insee_data_dir, \"DEPARTEMENT.csv\"))"
   ]
  },
  {
   "cell_type": "code",
   "execution_count": 41,
   "metadata": {},
   "outputs": [],
   "source": [
    "df_dossier.set_index(\"ID\", inplace=True)\n",
    "\n",
    "# Création d'un ID pour les actions\n",
    "for df in [df_action_1, df_action_2]:\n",
    "    df[\"ID\"] = df[\"Dossier ID\"].astype(str) + \"_\" + df[\"Ligne\"].astype(str)\n",
    "    df.set_index(\"ID\", inplace=True)"
   ]
  },
  {
   "cell_type": "code",
   "execution_count": 42,
   "metadata": {},
   "outputs": [],
   "source": [
    "# Conversion des colonnes de dates en objet datetime \n",
    "\n",
    "for col in [\n",
    "    'Dernière mise à jour le',\n",
    "    'Déposé le',\n",
    "    'Passé en instruction le',\n",
    "    'Traité le'\n",
    "] :\n",
    "    df_dossier[col] = pd.to_datetime(df_dossier[col], format='%Y-%m-%d')\n",
    "\n",
    "for col in [\n",
    "    \"Date prévisionnelle du début de l'action\",\n",
    "    \"Date prévisionnelle de la fin de l'action\",\n",
    "] :\n",
    "    for df in [df_action_1, df_action_2]:\n",
    "        df[col] =  pd.to_datetime(df[col], format='%Y-%m-%d')\n",
    "        "
   ]
  },
  {
   "cell_type": "code",
   "execution_count": 43,
   "metadata": {},
   "outputs": [],
   "source": [
    "# Conversion des champs Oui/Non en True/False\n",
    "\n",
    "for col in [\n",
    "    '1. Une action se déroule dans une seule localisation ou est dématérialisée',\n",
    "    '2 - Une ou plusieurs de vos actions se déroulent dans plusieurs localisations'\n",
    "] :\n",
    "    df_dossier[col] = df_dossier[col] == \"Oui\"\n",
    "\n",
    "for col in [\n",
    "    \"L'action est-elle ouverte au grand public ?\",\n",
    "    'Votre action est-elle dématérialisée ?',\n",
    "] :\n",
    "    df_action_1[col] = df_action_1[col] == \"Oui\"\n",
    "\n",
    "for col in [\n",
    "    \"L'action est-elle ouverte au grand public ?\"\n",
    "] :\n",
    "    df_action_2[col] = df_action_2[col] == \"Oui\"\n",
    "\n",
    "\n",
    "# Conversion des champs on/off en True/False\n",
    "\n",
    "for col in [\n",
    "    'En tant que porteur de projet proposé à la labellisation de l’Etat, je m’engage à respecter les valeurs et principes suivants, qui constituent la « Charte des valeurs de la Journée »',\n",
    "    'Je m’engage, si mon projet est labellisé',\n",
    "    \"J'atteste sur l’honneur l’exactitude des renseignements fournis ;\",\n",
    "    \"J'atteste avoir pris connaissance du règlement de l’appel à projets Journée nationale résilience 2023\"\n",
    "] :\n",
    "    df_dossier[col] = df_dossier[col] == \"on\""
   ]
  },
  {
   "cell_type": "code",
   "execution_count": 44,
   "metadata": {},
   "outputs": [],
   "source": [
    "# Conversion des champs à choix multiples en plusieurs champs True / False\n",
    "\n",
    "def traitement_champs_multiples(df, col, choix, fillna = False):\n",
    "    \n",
    "    # df[col] = df[col].fillna(\"\")\n",
    "    \n",
    "    # renommer les choix\n",
    "    choix_2 = [unidecode(c).lower().replace(\" \",\"_\").replace(\"/\",\"_\") for c in choix]\n",
    "    \n",
    "    for c1,c2 in zip(choix,choix_2) : \n",
    "        df[\"is_\"+c2] = df.apply(\n",
    "            lambda x : fillna if not(isinstance(x[col],str)) else (c1 in x[col].split(\", \")),\n",
    "            axis = 1\n",
    "        )\n",
    "        \n",
    "    # df = df.drop(columns=[c])\n",
    "\n",
    "    return df"
   ]
  },
  {
   "cell_type": "code",
   "execution_count": 45,
   "metadata": {},
   "outputs": [],
   "source": [
    "for col,choix in [\n",
    "    (\"Type d'action\", [\"Conférence\",\"Exposition\",\"Réunion d'information\",\"Visite en plein air\",\"Atelier sensibilisation\",\"Spectable\",\"Autre\",\"Formation\",\"Conférence\", \"Atelier Jeux\"]),\n",
    "    (\"Risques ciblés\", [\"Risques naturels\",\"Risques technologiques\"]),\n",
    "    (\"Risques naturels\", [\"Inondations\",\"Feux de forêt\",\"Tempête/cyclone\",\"Séisme\",\"Éruption volcanique\",\"Mouvement de terrain\",\"Risques littoraux\",\"Avalanche\",\"Radon\"]),\n",
    "    (\"Risques technologiques\", [\"Accidents industriels\",\"Accidents nucléaires\",\"Rupture de barrage\",\"Transport de matières dangereuses\"]),\n",
    "    (\"Public cible\", [\"Tous public\",\"Famille\",\"Jeune public\",\"Séniors\"]),\n",
    "    (\"Public restreint\", [\"Elu\",\"Scolaire\",\"Salarié\",\"Autres\"]),\n",
    "    (\"Objectifs de l'action\", [\"Objectif n°1. Développer la culture sur les risques naturels et technologiques\",\"Objectif n°2. Se préparer à la survenance d’une catastrophe\",\"Objectif n°3. Développer la résilience collective aux catastrophes\"])\n",
    "] : \n",
    "    for df in [df_action_1, df_action_2]:\n",
    "        df = traitement_champs_multiples(df, col, choix)"
   ]
  },
  {
   "cell_type": "code",
   "execution_count": 46,
   "metadata": {},
   "outputs": [],
   "source": [
    "# Regarde si une action tombe en Octobre\n",
    "\n",
    "dt1 = datetime(2023, 10, 1)\n",
    "dt2 = datetime(2023, 10, 31)\n",
    "dt_jnr = datetime(2023, 10, 13)\n",
    "\n",
    "init_date = \"Date prévisionnelle du début de l'action\"\n",
    "end_date = \"Date prévisionnelle de la fin de l'action\"\n",
    "\n",
    "for df in [df_action_1, df_action_2]:\n",
    "    \n",
    "    df[\"Action en octobre\"] = \\\n",
    "            ((df[init_date] >= dt1) & (df[init_date] <= dt2)) | \\\n",
    "            ((df[end_date] >= dt1) & (df[end_date] <= dt2)) | \\\n",
    "            ((df[end_date] >= dt2) & (df[init_date] <= dt1))\n",
    "            \n",
    "    df[\"Action journalière\"] = (df[init_date] == df[init_date])\n",
    "    df[\"Action JNR\"] = (df[\"Action journalière\"] & (df[init_date] == dt_jnr))\n",
    "        "
   ]
  },
  {
   "cell_type": "code",
   "execution_count": 47,
   "metadata": {},
   "outputs": [],
   "source": [
    "# Export des données par département\n",
    "\n",
    "df_dossier[\"INSEE_DEP\"] = df_dossier.apply(\n",
    "    lambda row : row[\"Sélectionnez la zone géographique du projet\"].split(\"-\")[0],\n",
    "    axis = 1\n",
    ")\n",
    "\n",
    "df_action_1 = pd.merge(df_action_1, df_dossier.reset_index()[[\"ID\",\"INSEE_DEP\"]], how=\"left\", left_on=\"Dossier ID\", right_on=\"ID\")\n",
    "\n",
    "risques = [\"Inondations\",\"Feux de forêt\",\"Tempête/cyclone\",\"Séisme\",\"Éruption volcanique\",\"Mouvement de terrain\",\"Risques littoraux\",\"Avalanche\",\"Radon\",\"Accidents industriels\",\"Accidents nucléaires\",\"Rupture de barrage\",\"Transport de matières dangereuses\"]\n",
    "\n",
    "col_risques = [f\"is_{unidecode(c).lower().replace(' ','_').replace('/','_')}\" for c in risques]"
   ]
  },
  {
   "cell_type": "code",
   "execution_count": 48,
   "metadata": {},
   "outputs": [
    {
     "name": "stdout",
     "output_type": "stream",
     "text": [
      "Entrées régionales non prises en compte pour le moment (région Auvergne)\n",
      "Entrées régionales non prises en compte pour le moment (région Auvergne)\n"
     ]
    }
   ],
   "source": [
    "# On retient que les actions ouvertes au grand public \n",
    "df_grand_public = df_action_1.loc[df_action_1[\"L'action est-elle ouverte au grand public ?\"]]\n",
    "\n",
    "df_nb_actions_risque = df_grand_public.groupby(\"INSEE_DEP\")[col_risques].sum()\n",
    "df_nb_actions = df_grand_public[\"INSEE_DEP\"].value_counts()\n",
    "\n",
    "nb_actions_risque_dict = {}\n",
    "\n",
    "couleurs_risques = {\n",
    "    \"Inondations\" : \"#74BFDF\",\n",
    "    \"Feux de forêt\" : \"#FC7C7C\",\n",
    "    \"Tempête/cyclone\" : \"#B4CAD3\",\n",
    "    \"Séisme\" : \"#D3C7B4\",\n",
    "    \"Éruption volcanique\" : \"#FFB475\",\n",
    "    \"Mouvement de terrain\" : \"#A87C56\",\n",
    "    \"Risques littoraux\" : \"#A9FBF7\",\n",
    "    \"Avalanche\" : \"#E4E6E6\",\n",
    "    \"Radon\" : \"#FDC7FD\",\n",
    "    \"Accidents industriels\" : \"#B862F5\",\n",
    "    \"Accidents nucléaires\" : \"#F2ED5A\",\n",
    "    \"Rupture de barrage\" : \"#4046F5\",\n",
    "    \"Transport de matières dangereuses\" : \"#F75CA9\"\n",
    "}\n",
    "\n",
    "couleurs = [couleurs_risques[r] for r in risques]\n",
    "\n",
    "for code in df_dpt[\"INSEE_DEP\"]:\n",
    "    nb_actions_risque_dict[code] = {\n",
    "        \"Nombre actions\" : 0\n",
    "    }\n",
    "\n",
    "for code in df_nb_actions.index:\n",
    "    try : \n",
    "        nb_actions_risque_dict[code][\"Nombre actions\"] = df_nb_actions.loc[code].item()\n",
    "    except KeyError:\n",
    "        print(f\"Entrées régionales non prises en compte pour le moment (région {code})\")\n",
    "\n",
    "for code in df_nb_actions_risque.index:\n",
    "    try :\n",
    "        data = df_nb_actions_risque.loc[code].values.flatten()\n",
    "        data_dpt = nb_actions_risque_dict[code]\n",
    "        data_dpt[\"Type de risque\"] = np.array(risques)[data!=0].tolist()\n",
    "        data_dpt[\"Nombre d'actions\"] = data[data!=0].tolist()\n",
    "        data_dpt[\"couleur_plot\"] = np.array(couleurs)[data!=0].tolist()\n",
    "    except KeyError:\n",
    "        print(f\"Entrées régionales non prises en compte pour le moment (région {code})\")\n"
   ]
  },
  {
   "cell_type": "code",
   "execution_count": 49,
   "metadata": {},
   "outputs": [],
   "source": [
    "with open('../out_data/nb_actions_dpt_08_01_new_names.json', 'w') as fp:\n",
    "    json.dump(nb_actions_risque_dict, fp, indent=4)"
   ]
  },
  {
   "cell_type": "code",
   "execution_count": 50,
   "metadata": {},
   "outputs": [
    {
     "name": "stdout",
     "output_type": "stream",
     "text": [
      "Warning : L'adresse suivante n'a pas été trouvée : Ecole Mixte 1, Guyonneau 97116 Pointe-Noire, on donne les coordonnées de la commune\n",
      "Warning : L'adresse suivante n'a pas été trouvée : SITE DE LA VILLE DE CHOELCHER, on donne les coordonnées de la commune\n",
      "Warning : L'adresse suivante n'a pas été trouvée : Lieu encore à définir - potentiellement dans un espace de co-working à Rennes, ou à la Maison des Associations, ou en coopération avec l'ALEC ou la métropole de Rennes. , on donne les coordonnées de la commune\n",
      "Warning : L'adresse suivante n'a pas été trouvée : Lieu encore à définir - potentiellement dans un espace de co-working à Rennes, ou à la Maison des Associations, ou en coopération avec l'ALEC ou la métropole de Rennes. , on donne les coordonnées de la commune\n",
      "Warning : L'adresse suivante n'a pas été trouvée : Longvilliers Club - Petit manoir - 97232 LE LAMENTIN, on donne les coordonnées de la commune\n",
      "Warning : L'adresse suivante n'a pas été trouvée : foyer théâtre,  2 Rue du Foyer, 11700 Douzens, on donne les coordonnées de la commune\n",
      "Warning : L'adresse suivante n'a pas été trouvée : Chemin du vallon 74140 Loisin, on donne les coordonnées de la commune\n",
      "Warning : L'adresse suivante n'a pas été trouvée : Chemin du vallon 74140 Loisin, on donne les coordonnées de la commune\n",
      "Warning : L'adresse suivante n'a pas été trouvée : Chemin du vallon 74140 Loisin, on donne les coordonnées de la commune\n",
      "Warning : L'adresse suivante n'a pas été trouvée : Boulevard Militaire - Salle du Manège, on donne les coordonnées de la commune\n",
      "Warning : L'adresse suivante n'a pas été trouvée : Boulevard Militaire - Salle du Manège, on donne les coordonnées de la commune\n",
      "Warning : L'adresse suivante n'a pas été trouvée : Garopôle, Pl. de la Gare, 80100 Abbeville, on donne les coordonnées de la commune\n",
      "Warning : L'adresse suivante n'a pas été trouvée : Boulevard de la baie de Txingudi 64700 Hendaye (RDV précisé au moment de l'inscription), on donne les coordonnées de la commune\n"
     ]
    }
   ],
   "source": [
    "# Récolte des coordonnées et département pour actions\n",
    "\n",
    "def adress2latlon(adress, commune, dpt):\n",
    "    \n",
    "    \"\"\"Interroge l'API de recherche d'adresse de OpenStreetMap\n",
    "    - Si adresse non rentrée par le dépositaire du dossier OU non trouvée par OpenStreetMap : on cherche les coordonnées de la commune\n",
    "    - Sinon on donne les coordonnées de l'adresse précise\n",
    "    \"\"\"\n",
    "    \n",
    "    if not(isinstance(adress, str)):\n",
    "        return [np.nan,np.nan]\n",
    "    \n",
    "    url = f\"https://nominatim.openstreetmap.org/?adressdetails=1&q={adress.replace(' ','+')}&format=json&limit=1\"\n",
    "    \n",
    "    try :\n",
    "        \n",
    "        data = requests.get(url).json()[0]\n",
    "                \n",
    "        # commune = data[\"display_name\"].split(\", \")[2]\n",
    "        # dpt = data[\"display_name\"].split(\", \")[4]\n",
    "\n",
    "        return [data[\"lat\"],data[\"lon\"]]\n",
    "    \n",
    "    except :\n",
    "        print(f\"Warning : L'adresse suivante n'a pas été trouvée : {adress}, on donne les coordonnées de la commune\")\n",
    "        \n",
    "        url = f\"https://nominatim.openstreetmap.org/?adressdetails=1&q={commune.replace(' ','+')},+{dpt}&format=json&limit=1\"\n",
    "\n",
    "        try : \n",
    "            data = requests.get(url).json()[0]\n",
    "            return [data[\"lat\"],data[\"lon\"]]\n",
    "        \n",
    "        except :\n",
    "            print(f\"Warning : Commune {commune} du département {dpt} non trouvée\")\n",
    "            return [np.nan,np.nan]\n",
    "    \n",
    "adress_col = \"Veuillez indiquer l'adresse complète de l'action\"\n",
    "        \n",
    "df_action_1[['Lat', 'Lon']] = pd.DataFrame([adress2latlon(adress,com,dpt) for adress,com,dpt in zip(df_action_1[adress_col],df_action_1[\"Commune\"],df_action_1[\"Département\"])],index=df_action_1.index)     "
   ]
  },
  {
   "cell_type": "code",
   "execution_count": 51,
   "metadata": {},
   "outputs": [],
   "source": [
    "df_action_1_m = pd.merge(df_action_1, df_dossier, how=\"left\", left_on=\"Dossier ID\", right_index=True)"
   ]
  },
  {
   "cell_type": "code",
   "execution_count": 54,
   "metadata": {},
   "outputs": [],
   "source": [
    "# Export des données d'actions pour la carte grand public\n",
    "\n",
    "col_public = [f\"is_{unidecode(c).lower().replace(' ','_').replace('/','_')}\" for c in [\"Tous public\",\"Famille\",\"Jeune public\",\"Séniors\"]]\n",
    "\n",
    "df_action_1_export = df_action_1_m.loc[df_action_1_m[\"L'action est-elle ouverte au grand public ?\"]][[\n",
    "    \"Nom de l'action\",\n",
    "    'Raison sociale',\n",
    "    \"Date prévisionnelle du début de l'action\",\n",
    "    \"Date prévisionnelle de la fin de l'action\",\n",
    "    \"Action journalière\",\n",
    "    \"Action JNR\",\n",
    "    'Public cible',\n",
    "    \"Type d'action\",\n",
    "    \"Description de l'action\", \n",
    "    'is_risques_naturels',\n",
    "    'is_risques_technologiques',\n",
    "    'Risques naturels',\n",
    "    'Risques technologiques',\n",
    "    \"Veuillez indiquer l'adresse complète de l'action\",\n",
    "    \"Commune\",\n",
    "    \"Département\",\n",
    "    \"Lat\",\n",
    "    \"Lon\"\n",
    "] + col_risques + col_public ].rename(columns={\n",
    "    \"Nom de l'action\" : \"Nom\",\n",
    "    \"Raison sociale\" : \"Organisateur\",\n",
    "    \"Action sur la JNR uniquement\" : \"Action_JNR\",\n",
    "    \"Date prévisionnelle du début de l'action\" : \"Date_debut\",\n",
    "    \"Date prévisionnelle de la fin de l'action\" : \"Date_fin\",\n",
    "    \"Public cible\" : \"Public_cible\",\n",
    "    \"Type d'action\" : \"Type_action\",\n",
    "    \"Description de l'action\" : \"Descriptif\",\n",
    "    'Risques naturels' : \"Risques_nat\",\n",
    "    'Risques technologiques' : \"Risques_techno\",\n",
    "    \"Veuillez indiquer l'adresse complète de l'action\" : \"Adresse\",\n",
    "    \"Action journalière\" : \"Action_journaliere\",\n",
    "    \"Action JNR\" : \"Action_JNR\",\n",
    "})"
   ]
  },
  {
   "cell_type": "code",
   "execution_count": 55,
   "metadata": {},
   "outputs": [],
   "source": [
    "df_action_1_export[~df_action_1_export[\"Lat\"].isna()].to_csv(\"../out_data/actions_grand_public_carte_08_01.csv\")"
   ]
  },
  {
   "cell_type": "code",
   "execution_count": null,
   "metadata": {},
   "outputs": [],
   "source": []
  }
 ],
 "metadata": {
  "kernelspec": {
   "display_name": "base",
   "language": "python",
   "name": "python3"
  },
  "language_info": {
   "codemirror_mode": {
    "name": "ipython",
    "version": 3
   },
   "file_extension": ".py",
   "mimetype": "text/x-python",
   "name": "python",
   "nbconvert_exporter": "python",
   "pygments_lexer": "ipython3",
   "version": "3.10.9"
  },
  "orig_nbformat": 4
 },
 "nbformat": 4,
 "nbformat_minor": 2
}
