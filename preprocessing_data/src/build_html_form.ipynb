{
 "cells": [
  {
   "cell_type": "code",
   "execution_count": 1,
   "metadata": {},
   "outputs": [],
   "source": [
    "from unidecode import unidecode"
   ]
  },
  {
   "cell_type": "code",
   "execution_count": 8,
   "metadata": {},
   "outputs": [
    {
     "name": "stdout",
     "output_type": "stream",
     "text": [
      "inondations\n",
      "feux_de_foret\n",
      "tempete_cyclone\n",
      "seisme\n",
      "eruption_volcanique\n",
      "mouvement_de_terrain\n",
      "risques_littoraux\n",
      "avalanche\n",
      "radon\n",
      "accidents_industriels\n",
      "accidents_nucleaires\n",
      "rupture_de_barrage\n",
      "transport_de_matieres_dangereuses\n"
     ]
    }
   ],
   "source": [
    "html_form = \"\"\n",
    "for rsk in [\"Inondations\",\"Feux de forêt\",\"Tempête/cyclone\",\"Séisme\",\"Éruption volcanique\",\"Mouvement de terrain\",\"Risques littoraux\",\"Avalanche\",\"Radon\"] + [\"Accidents industriels\",\"Accidents nucléaires\",\"Rupture de barrage\",\"Transport de matières dangereuses\"]:\n",
    "    rsk_name = unidecode(rsk).lower().replace(\" \",\"_\").replace(\"/\",\"_\")\n",
    "    print(rsk_name)\n",
    "    \n",
    "    html_form += f\"\"\"\n",
    "<div class=\"form-check\">\n",
    "    <input type=\"checkbox\" class=\"form-check-input\" id=\"{rsk_name}\" checked>\n",
    "    <label class=\"form-check-label\" for=\"{rsk_name}\">{rsk}</label>\n",
    "</div>\"\"\"\n",
    "    \n",
    "with open(\"../out_data/risques_form_html.html\", \"w\") as f:\n",
    "    f.write(html_form)"
   ]
  },
  {
   "cell_type": "code",
   "execution_count": null,
   "metadata": {},
   "outputs": [],
   "source": []
  }
 ],
 "metadata": {
  "kernelspec": {
   "display_name": "base",
   "language": "python",
   "name": "python3"
  },
  "language_info": {
   "codemirror_mode": {
    "name": "ipython",
    "version": 3
   },
   "file_extension": ".py",
   "mimetype": "text/x-python",
   "name": "python",
   "nbconvert_exporter": "python",
   "pygments_lexer": "ipython3",
   "version": "3.9.12"
  },
  "orig_nbformat": 4
 },
 "nbformat": 4,
 "nbformat_minor": 2
}
