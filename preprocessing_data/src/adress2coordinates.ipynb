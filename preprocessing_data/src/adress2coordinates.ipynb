{
 "cells": [
  {
   "cell_type": "code",
   "execution_count": 1,
   "metadata": {},
   "outputs": [],
   "source": [
    "import pandas as pd\n",
    "import requests\n"
   ]
  },
  {
   "cell_type": "code",
   "execution_count": 2,
   "metadata": {},
   "outputs": [],
   "source": [
    "df = pd.read_excel(\n",
    "    \"dossiers_journee-nationale-de-la-resilience-appel-a-projets_2023-07-04_09-02.xlsx\",\n",
    "    sheet_name=\"Dossiers\"\n",
    "    )"
   ]
  },
  {
   "cell_type": "code",
   "execution_count": 34,
   "metadata": {},
   "outputs": [],
   "source": [
    "df2 = pd.DataFrame(\n",
    "    index = df[\"ID\"],\n",
    "    columns = [\"Adresse\",\"lat_deg\",\"lon_deg\"]\n",
    ")\n",
    "\n",
    "df2[\"Adresse\"] = df.set_index(\"ID\")[\"Adresse\"]"
   ]
  },
  {
   "cell_type": "code",
   "execution_count": 17,
   "metadata": {},
   "outputs": [
    {
     "data": {
      "text/html": [
       "<div>\n",
       "<style scoped>\n",
       "    .dataframe tbody tr th:only-of-type {\n",
       "        vertical-align: middle;\n",
       "    }\n",
       "\n",
       "    .dataframe tbody tr th {\n",
       "        vertical-align: top;\n",
       "    }\n",
       "\n",
       "    .dataframe thead th {\n",
       "        text-align: right;\n",
       "    }\n",
       "</style>\n",
       "<table border=\"1\" class=\"dataframe\">\n",
       "  <thead>\n",
       "    <tr style=\"text-align: right;\">\n",
       "      <th></th>\n",
       "      <th>Adresse</th>\n",
       "      <th>Lat_deg</th>\n",
       "      <th>Lon_deg</th>\n",
       "    </tr>\n",
       "    <tr>\n",
       "      <th>ID</th>\n",
       "      <th></th>\n",
       "      <th></th>\n",
       "      <th></th>\n",
       "    </tr>\n",
       "  </thead>\n",
       "  <tbody>\n",
       "    <tr>\n",
       "      <th>12822500</th>\n",
       "      <td>12 Place de Verdun 38000 Grenoble</td>\n",
       "      <td>NaN</td>\n",
       "      <td>NaN</td>\n",
       "    </tr>\n",
       "    <tr>\n",
       "      <th>12848158</th>\n",
       "      <td>288 Avenue Georges Clémenceau 77000 Vaux-le-Pénil</td>\n",
       "      <td>NaN</td>\n",
       "      <td>NaN</td>\n",
       "    </tr>\n",
       "    <tr>\n",
       "      <th>12851197</th>\n",
       "      <td>9 Rue Jacques Louvel-Tessier 75010 Paris</td>\n",
       "      <td>NaN</td>\n",
       "      <td>NaN</td>\n",
       "    </tr>\n",
       "    <tr>\n",
       "      <th>12975331</th>\n",
       "      <td>11 Rue du Maréchal Leclerc 49400 Saumur</td>\n",
       "      <td>NaN</td>\n",
       "      <td>NaN</td>\n",
       "    </tr>\n",
       "    <tr>\n",
       "      <th>13002567</th>\n",
       "      <td>7 BIS Rue René et Emile Fage 19000 Tulle</td>\n",
       "      <td>NaN</td>\n",
       "      <td>NaN</td>\n",
       "    </tr>\n",
       "    <tr>\n",
       "      <th>13169760</th>\n",
       "      <td>12 Rue Villiot 75012 Paris</td>\n",
       "      <td>NaN</td>\n",
       "      <td>NaN</td>\n",
       "    </tr>\n",
       "    <tr>\n",
       "      <th>13173085</th>\n",
       "      <td>Observatoire Volcanologique et Sismologique de...</td>\n",
       "      <td>NaN</td>\n",
       "      <td>NaN</td>\n",
       "    </tr>\n",
       "  </tbody>\n",
       "</table>\n",
       "</div>"
      ],
      "text/plain": [
       "                                                    Adresse Lat_deg Lon_deg\n",
       "ID                                                                         \n",
       "12822500                  12 Place de Verdun 38000 Grenoble     NaN     NaN\n",
       "12848158  288 Avenue Georges Clémenceau 77000 Vaux-le-Pénil     NaN     NaN\n",
       "12851197           9 Rue Jacques Louvel-Tessier 75010 Paris     NaN     NaN\n",
       "12975331            11 Rue du Maréchal Leclerc 49400 Saumur     NaN     NaN\n",
       "13002567           7 BIS Rue René et Emile Fage 19000 Tulle     NaN     NaN\n",
       "13169760                         12 Rue Villiot 75012 Paris     NaN     NaN\n",
       "13173085  Observatoire Volcanologique et Sismologique de...     NaN     NaN"
      ]
     },
     "execution_count": 17,
     "metadata": {},
     "output_type": "execute_result"
    }
   ],
   "source": [
    "df2"
   ]
  },
  {
   "cell_type": "code",
   "execution_count": 27,
   "metadata": {},
   "outputs": [],
   "source": [
    "# test get lat lon from adress\n",
    "\n",
    "adress = \"187 chemin du clos marchand, Saint-Ismier\"\n",
    "url = f\"https://nominatim.openstreetmap.org/?adressdetails=1&q={adress.replace(' ','+')}&format=json&limit=1\"\n",
    "data = requests.get(url).json()"
   ]
  },
  {
   "cell_type": "code",
   "execution_count": 35,
   "metadata": {},
   "outputs": [],
   "source": [
    "# function \n",
    "def adress2latlon(adress):\n",
    "    url = f\"https://nominatim.openstreetmap.org/?adressdetails=1&q={adress.replace(' ','+')}&format=json&limit=1\"\n",
    "    try :\n",
    "        data = requests.get(url).json()[0]\n",
    "        return (data[\"lat\"],data[\"lon\"])\n",
    "    except :\n",
    "        print(f\"Warning : adress not found : {adress}\")\n"
   ]
  },
  {
   "cell_type": "code",
   "execution_count": 36,
   "metadata": {},
   "outputs": [
    {
     "name": "stdout",
     "output_type": "stream",
     "text": [
      "Can't get lat lon for adress Observatoire Volcanologique et Sismologique de Guadeloupe - Le Houelmont - 97113 Gourbeyre - La Guadeloupe\n",
      "Request returned : []\n"
     ]
    }
   ],
   "source": [
    "df2[['lat_deg', 'lon_deg']] = pd.DataFrame([adress2latlon(adress) for adress in df2['Adresse']], index=df2.index)"
   ]
  },
  {
   "cell_type": "code",
   "execution_count": 40,
   "metadata": {},
   "outputs": [
    {
     "data": {
      "text/html": [
       "<div>\n",
       "<style scoped>\n",
       "    .dataframe tbody tr th:only-of-type {\n",
       "        vertical-align: middle;\n",
       "    }\n",
       "\n",
       "    .dataframe tbody tr th {\n",
       "        vertical-align: top;\n",
       "    }\n",
       "\n",
       "    .dataframe thead th {\n",
       "        text-align: right;\n",
       "    }\n",
       "</style>\n",
       "<table border=\"1\" class=\"dataframe\">\n",
       "  <thead>\n",
       "    <tr style=\"text-align: right;\">\n",
       "      <th></th>\n",
       "      <th>Adresse</th>\n",
       "      <th>lat_deg</th>\n",
       "      <th>lon_deg</th>\n",
       "    </tr>\n",
       "    <tr>\n",
       "      <th>ID</th>\n",
       "      <th></th>\n",
       "      <th></th>\n",
       "      <th></th>\n",
       "    </tr>\n",
       "  </thead>\n",
       "  <tbody>\n",
       "    <tr>\n",
       "      <th>12822500</th>\n",
       "      <td>12 Place de Verdun 38000 Grenoble</td>\n",
       "      <td>45.1867239</td>\n",
       "      <td>5.7302904</td>\n",
       "    </tr>\n",
       "    <tr>\n",
       "      <th>12848158</th>\n",
       "      <td>288 Avenue Georges Clémenceau 77000 Vaux-le-Pénil</td>\n",
       "      <td>48.5393221</td>\n",
       "      <td>2.6782741</td>\n",
       "    </tr>\n",
       "    <tr>\n",
       "      <th>12851197</th>\n",
       "      <td>9 Rue Jacques Louvel-Tessier 75010 Paris</td>\n",
       "      <td>48.8710939</td>\n",
       "      <td>2.3693882</td>\n",
       "    </tr>\n",
       "    <tr>\n",
       "      <th>12975331</th>\n",
       "      <td>11 Rue du Maréchal Leclerc 49400 Saumur</td>\n",
       "      <td>47.2544869</td>\n",
       "      <td>-0.0845131</td>\n",
       "    </tr>\n",
       "    <tr>\n",
       "      <th>13002567</th>\n",
       "      <td>7 BIS Rue René et Emile Fage 19000 Tulle</td>\n",
       "      <td>45.2649001</td>\n",
       "      <td>1.7749318</td>\n",
       "    </tr>\n",
       "    <tr>\n",
       "      <th>13169760</th>\n",
       "      <td>12 Rue Villiot 75012 Paris</td>\n",
       "      <td>48.8412793</td>\n",
       "      <td>2.3750354</td>\n",
       "    </tr>\n",
       "  </tbody>\n",
       "</table>\n",
       "</div>"
      ],
      "text/plain": [
       "                                                    Adresse     lat_deg  \\\n",
       "ID                                                                        \n",
       "12822500                  12 Place de Verdun 38000 Grenoble  45.1867239   \n",
       "12848158  288 Avenue Georges Clémenceau 77000 Vaux-le-Pénil  48.5393221   \n",
       "12851197           9 Rue Jacques Louvel-Tessier 75010 Paris  48.8710939   \n",
       "12975331            11 Rue du Maréchal Leclerc 49400 Saumur  47.2544869   \n",
       "13002567           7 BIS Rue René et Emile Fage 19000 Tulle  45.2649001   \n",
       "13169760                         12 Rue Villiot 75012 Paris  48.8412793   \n",
       "\n",
       "             lon_deg  \n",
       "ID                    \n",
       "12822500   5.7302904  \n",
       "12848158   2.6782741  \n",
       "12851197   2.3693882  \n",
       "12975331  -0.0845131  \n",
       "13002567   1.7749318  \n",
       "13169760   2.3750354  "
      ]
     },
     "execution_count": 40,
     "metadata": {},
     "output_type": "execute_result"
    }
   ],
   "source": [
    "df2[~df2[\"lat_deg\"].isna()]"
   ]
  },
  {
   "cell_type": "code",
   "execution_count": 41,
   "metadata": {},
   "outputs": [],
   "source": [
    "# save it \n",
    "df2.to_excel(\"coordonnées_actions.xlsx\")"
   ]
  },
  {
   "cell_type": "code",
   "execution_count": null,
   "metadata": {},
   "outputs": [],
   "source": []
  }
 ],
 "metadata": {
  "kernelspec": {
   "display_name": "base",
   "language": "python",
   "name": "python3"
  },
  "language_info": {
   "codemirror_mode": {
    "name": "ipython",
    "version": 3
   },
   "file_extension": ".py",
   "mimetype": "text/x-python",
   "name": "python",
   "nbconvert_exporter": "python",
   "pygments_lexer": "ipython3",
   "version": "3.9.12"
  },
  "orig_nbformat": 4
 },
 "nbformat": 4,
 "nbformat_minor": 2
}
