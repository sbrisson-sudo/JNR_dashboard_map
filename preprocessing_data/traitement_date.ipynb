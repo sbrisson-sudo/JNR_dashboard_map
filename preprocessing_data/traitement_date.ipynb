{
 "cells": [
  {
   "cell_type": "code",
   "execution_count": 1,
   "metadata": {},
   "outputs": [],
   "source": [
    "import pandas as pd\n",
    "from datetime import datetime"
   ]
  },
  {
   "cell_type": "code",
   "execution_count": 2,
   "metadata": {},
   "outputs": [],
   "source": [
    "df_action1 = pd.read_excel(\n",
    "    \"dossiers_journee-nationale-de-la-resilience-appel-a-projets_2023-07-04_09-02.xlsx\",\n",
    "    sheet_name=\"(3344502) Action\"\n",
    "    )\n",
    "df_action2 = pd.read_excel(\n",
    "    \"dossiers_journee-nationale-de-la-resilience-appel-a-projets_2023-07-04_09-02.xlsx\",\n",
    "    sheet_name=\"(3308253) Action\"\n",
    "    )\n",
    "\n",
    "for dt_col in [\"Date prévisionnelle du début de l'action\", \"Date prévisionnelle de la fin de l'action\"]:\n",
    "    for df in [df_action1, df_action2]:\n",
    "        df[dt_col] =  pd.to_datetime(df[dt_col], format='%Y-%m-%d')"
   ]
  },
  {
   "cell_type": "code",
   "execution_count": 23,
   "metadata": {},
   "outputs": [],
   "source": [
    "dt1 = datetime(2023, 10, 1)\n",
    "dt2 = datetime(2023, 10, 31)\n",
    "\n",
    "init_date = \"Date prévisionnelle du début de l'action\"\n",
    "end_date = \"Date prévisionnelle de la fin de l'action\"\n",
    "\n",
    "# (debut est en octobre) OU (fin est en octobre) OU (debut avant octobre ET fin après octobre)\n",
    "for df in [df_action1, df_action2]:\n",
    "    df[\"Nombre d'actions en octobre\"] = ((df[init_date] >= dt1) & (df[init_date] <= dt2)) | \\\n",
    "            ((df[end_date] >= dt1) & (df[end_date] <= dt2)) | \\\n",
    "            ((df[end_date] >= dt2) & (df[init_date] <= dt1))\n"
   ]
  },
  {
   "cell_type": "code",
   "execution_count": 25,
   "metadata": {},
   "outputs": [
    {
     "data": {
      "text/plain": [
       "Index(['Dossier ID', 'Ligne', 'Nom de l'action', 'Description de l'action',\n",
       "       'Type d'action', 'Objectifs de l'action', 'Risques ciblés',\n",
       "       'Risques naturels', 'Risques technologiques',\n",
       "       'L'action est-elle ouverte au grand public ?', 'Public cible',\n",
       "       'Public restreint', 'Nombre estimatif de personnes attendues',\n",
       "       'Date prévisionnelle du début de l'action',\n",
       "       'Date prévisionnelle de la fin de l'action',\n",
       "       'Votre action est-elle dématérialisée ?',\n",
       "       'Veuillez inscrire le lien internet',\n",
       "       'Veuillez indiquer l'adresse complète de l'action', 'Commune',\n",
       "       'Commune (Code insee)', 'Commune (Département)', 'Département',\n",
       "       'Département (Code)', 'Actions prévues',\n",
       "       'Adresse électronique professionnelle', 'Lien site internet',\n",
       "       'Action en octobre'],\n",
       "      dtype='object')"
      ]
     },
     "execution_count": 25,
     "metadata": {},
     "output_type": "execute_result"
    }
   ],
   "source": [
    "df_action1.columns"
   ]
  },
  {
   "cell_type": "code",
   "execution_count": 28,
   "metadata": {},
   "outputs": [],
   "source": [
    "pd.concat([df[[\"Dossier ID\",\"Nombre d'actions en octobre\"]] for df in [df_action1, df_action2]]).groupby(\"Dossier ID\").sum().to_excel(\"nombre_actions_octobre.xlsx\")"
   ]
  },
  {
   "cell_type": "code",
   "execution_count": null,
   "metadata": {},
   "outputs": [],
   "source": [
    "# Récupération et fusion des colonnes risques\n",
    "# col_rsq = [\"Risques naturels\"]"
   ]
  }
 ],
 "metadata": {
  "kernelspec": {
   "display_name": "base",
   "language": "python",
   "name": "python3"
  },
  "language_info": {
   "codemirror_mode": {
    "name": "ipython",
    "version": 3
   },
   "file_extension": ".py",
   "mimetype": "text/x-python",
   "name": "python",
   "nbconvert_exporter": "python",
   "pygments_lexer": "ipython3",
   "version": "3.10.9"
  },
  "orig_nbformat": 4
 },
 "nbformat": 4,
 "nbformat_minor": 2
}
